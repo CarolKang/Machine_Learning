{
 "cells": [
  {
   "cell_type": "code",
   "execution_count": 1,
   "metadata": {
    "collapsed": true
   },
   "outputs": [],
   "source": [
    "from __future__ import division\n",
    "import numpy as np\n",
    "import matplotlib.pyplot as plt\n",
    "import scipy\n",
    "import scipy.io as sio\n",
    "import sklearn.metrics as metrics\n",
    "import csv\n",
    "\n",
    "%matplotlib inline"
   ]
  },
  {
   "cell_type": "code",
   "execution_count": 2,
   "metadata": {
    "collapsed": false
   },
   "outputs": [],
   "source": [
    "data = scipy.io.loadmat(\"data_hw6_cs189_fa16/joke_data/joke_train.mat\")\n",
    "train_R = data['train']\n",
    "validation_set = np.loadtxt(\"data_hw6_cs189_fa16/joke_data/validation.txt\", delimiter = \",\")\n",
    "validation_idx = validation_set[:,:-1]\n",
    "validation_R = validation_set[:,-1]"
   ]
  },
  {
   "cell_type": "code",
   "execution_count": 3,
   "metadata": {
    "collapsed": false
   },
   "outputs": [
    {
     "name": "stdout",
     "output_type": "stream",
     "text": [
      "(24983, 100)\n"
     ]
    }
   ],
   "source": [
    "print(train_R.shape)"
   ]
  },
  {
   "cell_type": "code",
   "execution_count": 4,
   "metadata": {
    "collapsed": false
   },
   "outputs": [
    {
     "name": "stdout",
     "output_type": "stream",
     "text": [
      "nan\n"
     ]
    }
   ],
   "source": [
    "zeroed_R = np.nan_to_num(train_R)\n",
    "print(train_R[0][4])"
   ]
  },
  {
   "cell_type": "code",
   "execution_count": 5,
   "metadata": {
    "collapsed": true
   },
   "outputs": [],
   "source": [
    "def train_svd(train_R, d):\n",
    "    U, s, V = np.linalg.svd(train_R, full_matrices=False)\n",
    "    new_s = [0] * len(s)\n",
    "    new_s[:d] = s[:d]\n",
    "    S = np.diag(new_s)\n",
    "    return np.matmul(np.matrix(U), np.matrix(np.sqrt(S))), np.matmul(np.matrix(np.sqrt(S)), (np.matrix(V)))"
   ]
  },
  {
   "cell_type": "code",
   "execution_count": 6,
   "metadata": {
    "collapsed": false
   },
   "outputs": [],
   "source": [
    "def predict(U, X, indices):\n",
    "    predictions = []\n",
    "    for user, joke in indices:\n",
    "        rate = U[user - 1].dot(X.T[joke-1].T)\n",
    "        if rate > 0:\n",
    "            predictions.append(1)\n",
    "        else:\n",
    "            predictions.append(0)\n",
    "    return predictions"
   ]
  },
  {
   "cell_type": "code",
   "execution_count": 7,
   "metadata": {
    "collapsed": true
   },
   "outputs": [],
   "source": [
    "def mse(U, X, R):\n",
    "    result = 0\n",
    "    prediction = np.matmul(U, X)\n",
    "    k,d = prediction.shape\n",
    "    assert prediction.shape == R.shape\n",
    "    for i in range(k):\n",
    "        for j in range(d):\n",
    "            if not np.isnan(R[i][j]):\n",
    "                result += (prediction[i,j]-R[i][j])**2\n",
    "    return result"
   ]
  },
  {
   "cell_type": "code",
   "execution_count": 8,
   "metadata": {
    "collapsed": true
   },
   "outputs": [],
   "source": [
    "def validate(new_R, train_R, d):\n",
    "    U, X = train_svd(new_R, d)\n",
    "    error = mse(U, X, train_R)\n",
    "    print(\"when d = \",d,\", MSE is \", error)\n",
    "    prediction = predict(U, X, validation_idx)\n",
    "    validation_score = metrics.accuracy_score(validation_R, prediction)\n",
    "    print(\"Validation accuracy: {0}\".format(validation_score))"
   ]
  },
  {
   "cell_type": "markdown",
   "metadata": {},
   "source": [
    "# 4.2.2"
   ]
  },
  {
   "cell_type": "markdown",
   "metadata": {},
   "source": [
    "## d = 2"
   ]
  },
  {
   "cell_type": "code",
   "execution_count": 9,
   "metadata": {
    "collapsed": false
   },
   "outputs": [
    {
     "name": "stdout",
     "output_type": "stream",
     "text": [
      "when d =  2 , MSE is  18441623.0179\n",
      "Validation accuracy: 0.7051490514905149\n"
     ]
    }
   ],
   "source": [
    "validate(zeroed_R, train_R, 2)"
   ]
  },
  {
   "cell_type": "markdown",
   "metadata": {},
   "source": [
    "## d = 5"
   ]
  },
  {
   "cell_type": "code",
   "execution_count": 10,
   "metadata": {
    "collapsed": false
   },
   "outputs": [
    {
     "name": "stdout",
     "output_type": "stream",
     "text": [
      "when d =  5 , MSE is  16333384.4202\n",
      "Validation accuracy: 0.7154471544715447\n"
     ]
    }
   ],
   "source": [
    "validate(zeroed_R, train_R, 5)"
   ]
  },
  {
   "cell_type": "markdown",
   "metadata": {},
   "source": [
    "## d = 10"
   ]
  },
  {
   "cell_type": "code",
   "execution_count": 11,
   "metadata": {
    "collapsed": false
   },
   "outputs": [
    {
     "name": "stdout",
     "output_type": "stream",
     "text": [
      "when d =  10 , MSE is  14165432.758\n",
      "Validation accuracy: 0.7165311653116531\n"
     ]
    }
   ],
   "source": [
    "validate(zeroed_R, train_R, 10)"
   ]
  },
  {
   "cell_type": "markdown",
   "metadata": {},
   "source": [
    "## d = 20"
   ]
  },
  {
   "cell_type": "code",
   "execution_count": 12,
   "metadata": {
    "collapsed": false
   },
   "outputs": [
    {
     "name": "stdout",
     "output_type": "stream",
     "text": [
      "when d =  20 , MSE is  11304007.4397\n",
      "Validation accuracy: 0.6859078590785908\n"
     ]
    }
   ],
   "source": [
    "validate(zeroed_R, train_R, 20)"
   ]
  },
  {
   "cell_type": "code",
   "execution_count": null,
   "metadata": {
    "collapsed": true
   },
   "outputs": [],
   "source": []
  },
  {
   "cell_type": "code",
   "execution_count": null,
   "metadata": {
    "collapsed": true
   },
   "outputs": [],
   "source": []
  },
  {
   "cell_type": "code",
   "execution_count": null,
   "metadata": {
    "collapsed": true
   },
   "outputs": [],
   "source": []
  },
  {
   "cell_type": "code",
   "execution_count": null,
   "metadata": {
    "collapsed": true
   },
   "outputs": [],
   "source": []
  },
  {
   "cell_type": "code",
   "execution_count": null,
   "metadata": {
    "collapsed": true
   },
   "outputs": [],
   "source": []
  },
  {
   "cell_type": "markdown",
   "metadata": {},
   "source": [
    "# 4.2.3\n"
   ]
  },
  {
   "cell_type": "code",
   "execution_count": 13,
   "metadata": {
    "collapsed": true
   },
   "outputs": [],
   "source": [
    "def new_gradient(train_R, alpha = 0.01, max_iter = 10, dim = 10, svd_U = None, svd_V = None):\n",
    "    k,d = train_R.shape\n",
    "    U = np.random.normal(size=(k, dim))\n",
    "    V = np.random.normal(size=(d, dim))\n",
    "    if svd_U != None:\n",
    "        U = svd_U\n",
    "    if svd_V != None:\n",
    "        V = svd_V\n",
    "    for iteration in range(max_iter):\n",
    "        for i in range(k):\n",
    "#             U[i] = train_R[i].dot(V).dot(np.linalg.inv(V.T.dot(V) + alpha * np.identity(d)))\n",
    "#             print(V.T.dot(train_R[i].T))\n",
    "#             print((np.linalg.inv(V.T.dot(V)+ alpha * np.identity(d))).shape)\n",
    "            U[i] = (np.linalg.inv(V.T.dot(V) + alpha * np.identity(dim))).dot(V.T).dot(train_R[i].T).T\n",
    "        for j in range(d):\n",
    "#             V[j] = train_R.T[j].dot(U).dot(np.linalg.inv(U.T.dot(U) + alpha * np.identity(d)))\n",
    "            V[j] = (np.linalg.inv(U.T.dot(U) + alpha * np.identity(dim))).dot(U.T).dot(train_R.T[j].T).T\n",
    "    return U, V"
   ]
  },
  {
   "cell_type": "code",
   "execution_count": 16,
   "metadata": {
    "collapsed": false
   },
   "outputs": [],
   "source": [
    "def new_update(train_R, alpha = 0.01, max_iter = 10, dim = 10, svd_U = None, svd_V = None):\n",
    "    U, X = new_gradient(train_R,alpha = alpha, max_iter = max_iter)\n",
    "    error = mse(U, X.T, train_R)\n",
    "    print(\"MSE is \", error)\n",
    "    prediction = predict(U, X.T, validation_idx)\n",
    "    validation_score = metrics.accuracy_score(validation_R, prediction)\n",
    "    print(\"Validation accuracy: {0}\".format(validation_score))\n",
    "    return U,X"
   ]
  },
  {
   "cell_type": "markdown",
   "metadata": {},
   "source": [
    "## d = 2"
   ]
  },
  {
   "cell_type": "code",
   "execution_count": 17,
   "metadata": {
    "collapsed": false
   },
   "outputs": [
    {
     "name": "stdout",
     "output_type": "stream",
     "text": [
      "MSE is  17415318.6796\n",
      "Validation accuracy: 0.7168021680216802\n"
     ]
    },
    {
     "name": "stderr",
     "output_type": "stream",
     "text": [
      "/Users/Carol/anaconda3/lib/python3.4/site-packages/ipykernel/__main__.py:4: DeprecationWarning: using a non-integer number instead of an integer will result in an error in the future\n"
     ]
    }
   ],
   "source": [
    "d = 2\n",
    "U, V = train_svd(zeroed_R, d)\n",
    "U2, X2 = new_update(zeroed_R, alpha = 1.5, max_iter = 100, dim = d, svd_U= U, svd_V = V)"
   ]
  },
  {
   "cell_type": "markdown",
   "metadata": {},
   "source": [
    "## d = 5"
   ]
  },
  {
   "cell_type": "code",
   "execution_count": 42,
   "metadata": {
    "collapsed": false
   },
   "outputs": [
    {
     "name": "stdout",
     "output_type": "stream",
     "text": [
      "MSE is  17415308.0412\n",
      "Validation accuracy: 0.7165311653116531\n"
     ]
    },
    {
     "name": "stderr",
     "output_type": "stream",
     "text": [
      "/Users/Carol/anaconda3/lib/python3.4/site-packages/ipykernel/__main__.py:4: DeprecationWarning: using a non-integer number instead of an integer will result in an error in the future\n"
     ]
    }
   ],
   "source": [
    "d = 5\n",
    "U, V = train_svd(zeroed_R, d)\n",
    "U5, X5 = new_update(zeroed_R, alpha = 1, max_iter = 100, dim = d, svd_U= U, svd_V = V)"
   ]
  },
  {
   "cell_type": "markdown",
   "metadata": {},
   "source": [
    "## d = 10"
   ]
  },
  {
   "cell_type": "code",
   "execution_count": 37,
   "metadata": {
    "collapsed": false
   },
   "outputs": [
    {
     "name": "stdout",
     "output_type": "stream",
     "text": [
      "MSE is  17415308.7834\n",
      "Validation accuracy: 0.7168021680216802\n"
     ]
    },
    {
     "name": "stderr",
     "output_type": "stream",
     "text": [
      "/Users/Carol/anaconda3/lib/python3.4/site-packages/ipykernel/__main__.py:4: DeprecationWarning: using a non-integer number instead of an integer will result in an error in the future\n"
     ]
    }
   ],
   "source": [
    "d = 10\n",
    "U, V = train_svd(zeroed_R, d)\n",
    "U10, V10 = new_update(zeroed_R, alpha = 1, max_iter = 100, dim = d, svd_U= U, svd_V = V)"
   ]
  },
  {
   "cell_type": "markdown",
   "metadata": {},
   "source": [
    "## d = 20"
   ]
  },
  {
   "cell_type": "code",
   "execution_count": 38,
   "metadata": {
    "collapsed": false
   },
   "outputs": [
    {
     "name": "stdout",
     "output_type": "stream",
     "text": [
      "MSE is  17415402.4997\n",
      "Validation accuracy: 0.7173441734417344\n"
     ]
    },
    {
     "name": "stderr",
     "output_type": "stream",
     "text": [
      "/Users/Carol/anaconda3/lib/python3.4/site-packages/ipykernel/__main__.py:4: DeprecationWarning: using a non-integer number instead of an integer will result in an error in the future\n"
     ]
    }
   ],
   "source": [
    "d = 20\n",
    "U, V = train_svd(zeroed_R, d)\n",
    "U20, V20 = new_update(zeroed_R, alpha = 1, max_iter = 100, dim = d, svd_U= U, svd_V = V)"
   ]
  },
  {
   "cell_type": "markdown",
   "metadata": {},
   "source": [
    "## d = 50"
   ]
  },
  {
   "cell_type": "code",
   "execution_count": 44,
   "metadata": {
    "collapsed": false
   },
   "outputs": [
    {
     "name": "stdout",
     "output_type": "stream",
     "text": [
      "MSE is  17415323.5534\n",
      "Validation accuracy: 0.7165311653116531\n"
     ]
    },
    {
     "name": "stderr",
     "output_type": "stream",
     "text": [
      "/Users/Carol/anaconda3/lib/python3.4/site-packages/ipykernel/__main__.py:4: DeprecationWarning: using a non-integer number instead of an integer will result in an error in the future\n"
     ]
    }
   ],
   "source": [
    "d = 50\n",
    "U, V = train_svd(zeroed_R, d)\n",
    "U50, V50 = new_update(zeroed_R, alpha = 2, max_iter = 100, dim = d, svd_U= U, svd_V = V)"
   ]
  },
  {
   "cell_type": "code",
   "execution_count": null,
   "metadata": {
    "collapsed": true
   },
   "outputs": [],
   "source": []
  },
  {
   "cell_type": "code",
   "execution_count": null,
   "metadata": {
    "collapsed": true
   },
   "outputs": [],
   "source": []
  },
  {
   "cell_type": "markdown",
   "metadata": {},
   "source": [
    "# 4.3"
   ]
  },
  {
   "cell_type": "code",
   "execution_count": 41,
   "metadata": {
    "collapsed": false
   },
   "outputs": [
    {
     "name": "stderr",
     "output_type": "stream",
     "text": [
      "/Users/Carol/anaconda3/lib/python3.4/site-packages/ipykernel/__main__.py:4: DeprecationWarning: using a non-integer number instead of an integer will result in an error in the future\n"
     ]
    }
   ],
   "source": [
    "query_data = np.loadtxt(\"data_hw6_cs189_fa16/joke_data/query.txt\", delimiter = \",\")\n",
    "query_idx = query_data[:,1:]\n",
    "query_id = query_data[:,0]\n",
    "predictions = predict(U20, V20.T, query_idx)\n",
    "assert len(predictions) == len(query_id)\n",
    "with open('wenjing_kang.csv', 'w') as csvfile:\n",
    "    writer = csv.writer(csvfile)\n",
    "    writer.writerow(['Id','Category'])\n",
    "    for i in range(len(query_id)):\n",
    "        writer.writerow([int(query_id[i]), int(predictions[i])])"
   ]
  },
  {
   "cell_type": "code",
   "execution_count": null,
   "metadata": {
    "collapsed": true
   },
   "outputs": [],
   "source": []
  }
 ],
 "metadata": {
  "kernelspec": {
   "display_name": "Python 3",
   "language": "python",
   "name": "python3"
  },
  "language_info": {
   "codemirror_mode": {
    "name": "ipython",
    "version": 3
   },
   "file_extension": ".py",
   "mimetype": "text/x-python",
   "name": "python",
   "nbconvert_exporter": "python",
   "pygments_lexer": "ipython3",
   "version": "3.4.4"
  }
 },
 "nbformat": 4,
 "nbformat_minor": 0
}
