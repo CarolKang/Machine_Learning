{
 "cells": [
  {
   "cell_type": "code",
   "execution_count": 1,
   "metadata": {
    "collapsed": true
   },
   "outputs": [],
   "source": [
    "import numpy as np\n",
    "import scipy\n",
    "from scipy import linalg as la\n",
    "import matplotlib.pyplot as plt\n",
    "%matplotlib inline"
   ]
  },
  {
   "cell_type": "code",
   "execution_count": 2,
   "metadata": {
    "collapsed": false
   },
   "outputs": [],
   "source": [
    "beta = np.matrix([1.0,0.0]).T\n",
    "lam = 0.07"
   ]
  },
  {
   "cell_type": "markdown",
   "metadata": {},
   "source": [
    "### Data points###"
   ]
  },
  {
   "cell_type": "code",
   "execution_count": 3,
   "metadata": {
    "collapsed": true
   },
   "outputs": [],
   "source": [
    "X_origin = [4,5,5.6,6.8,7,7.2,8,0.8,1,1.2,2.5,2.6,3,4.3]"
   ]
  },
  {
   "cell_type": "markdown",
   "metadata": {},
   "source": [
    "### Corresponding classes###"
   ]
  },
  {
   "cell_type": "code",
   "execution_count": 4,
   "metadata": {
    "collapsed": false
   },
   "outputs": [],
   "source": [
    "Y_origin = [1,1,1,1,1,1,1,0,0,0,0,0,0,0]"
   ]
  },
  {
   "cell_type": "markdown",
   "metadata": {},
   "source": [
    "### Process data###"
   ]
  },
  {
   "cell_type": "code",
   "execution_count": 5,
   "metadata": {
    "collapsed": false
   },
   "outputs": [],
   "source": [
    "X_origin = np.array(X_origin)\n",
    "X_origin = (X_origin - np.mean(X_origin)) / X_origin.std()\n",
    "X_origin = np.array([X_origin, np.ones(len(X_origin))]).T\n",
    "Y_origin = np.matrix(Y_origin).T\n",
    "X = X_origin\n",
    "Y = Y_origin"
   ]
  },
  {
   "cell_type": "markdown",
   "metadata": {},
   "source": [
    "#### helper functions####"
   ]
  },
  {
   "cell_type": "code",
   "execution_count": 6,
   "metadata": {
    "collapsed": false
   },
   "outputs": [],
   "source": [
    "def mu(X, beta):\n",
    "    \n",
    "    return (1 / (1 + np.exp(- X.dot(beta)))).reshape((X.shape[0], 1))\n",
    "# def logistic(X,beta):\n",
    "#     return lam * np.linalg.norm(beta) - np.dot(Y.T, np.log(mu(X, beta))) - np.dot((1 - Y).T, np.log(1-mu(X, beta)))\n",
    "# def ridge(X, beta):\n",
    "#     return lam * np.linalg.norm(beta) + 1/2 * np.norm(Y - np.dot(X, beta))\n",
    "def newton_l(X, beta):\n",
    "    cur_mu = mu(X,beta)\n",
    "    gradient = 2*lam*beta - np.dot(X.T, Y - cur_mu)\n",
    "    u = np.diag(np.diag(np.dot(cur_mu, (1-cur_mu).T)))\n",
    "    \n",
    "    hessian = 2*lam + np.dot(np.dot(X.T, u), X)\n",
    "#     print(hessian.shape)\n",
    "    return -np.dot(np.linalg.inv(hessian), gradient)\n",
    "    \n",
    "def newton_j(X, beta):\n",
    "    gradient = 2*lam*beta - np.dot(X.T, (Y - np.dot(X, beta)))\n",
    "    hessian = 2*lam + np.dot(X.T, X)\n",
    "    return -np.dot(np.linalg.inv(hessian), gradient)"
   ]
  },
  {
   "cell_type": "code",
   "execution_count": 7,
   "metadata": {
    "collapsed": false
   },
   "outputs": [],
   "source": [
    "b_l = beta\n",
    "b_j = beta\n",
    "for i in range(3):\n",
    "    b_l = b_l + newton_l(X, b_l)\n",
    "    b_j = b_j + newton_j(X, b_j)\n",
    "# print(b_j)"
   ]
  },
  {
   "cell_type": "code",
   "execution_count": 8,
   "metadata": {
    "collapsed": false
   },
   "outputs": [
    {
     "data": {
      "image/png": "[encoded data removed]",
      "text/plain": [
       "<matplotlib.figure.Figure at 0x10f2ef668>"
      ]
     },
     "metadata": {},
     "output_type": "display_data"
    }
   ],
   "source": [
    "plt.scatter(X[:,0][:7], X[:,1][:7]) \n",
    "plt.scatter(X[:,0][7:], X[:,1][7:], c=\"red\") \n",
    "a = np.arange(-2, 2, 0.1)\n",
    "A = np.array([a, np.ones((len(a)))])\n",
    "A = A.T\n",
    "plt.plot(a, mu(A, b_l)+0.5) \n",
    "plt.plot(a, A.dot(b_j) + 0.5)\n",
    "plt.show()"
   ]
  },
  {
   "cell_type": "markdown",
   "metadata": {},
   "source": [
    "Green line shows the linear regression result and the blue curve shows the logistic regression result"
   ]
  },
  {
   "cell_type": "markdown",
   "metadata": {},
   "source": [
    "## INSERT DATA POINT(3,1)##"
   ]
  },
  {
   "cell_type": "code",
   "execution_count": 9,
   "metadata": {
    "collapsed": false
   },
   "outputs": [],
   "source": [
    "X = np.insert(X, 0, np.array([3, 1]), axis=0)\n",
    "Y = np.insert(Y, 0, 1).T"
   ]
  },
  {
   "cell_type": "code",
   "execution_count": 10,
   "metadata": {
    "collapsed": false
   },
   "outputs": [],
   "source": [
    "b_l = beta\n",
    "b_j = beta\n",
    "for i in range(3):\n",
    "    b_l = b_l + newton_l(X, b_l)\n",
    "    b_j = b_j + newton_j(X, b_j)\n",
    "    "
   ]
  },
  {
   "cell_type": "code",
   "execution_count": 11,
   "metadata": {
    "collapsed": false
   },
   "outputs": [
    {
     "data": {
      "image/png": "[encoded data removed]",
      "text/plain": [
       "<matplotlib.figure.Figure at 0x11201c240>"
      ]
     },
     "metadata": {},
     "output_type": "display_data"
    }
   ],
   "source": [
    "plt.scatter(X[:,0][:8], X[:,1][:8]) \n",
    "plt.scatter(X[:,0][8:], X[:,1][8:], c=\"red\") \n",
    "a = np.arange(-2, 2, 0.1)\n",
    "A = np.array([a, np.ones((len(a)))])\n",
    "A = A.T\n",
    "plt.plot(a, mu(A, b_l)+0.5) \n",
    "plt.plot(a, A.dot(b_j) + 0.5)\n",
    "plt.show()"
   ]
  },
  {
   "cell_type": "markdown",
   "metadata": {
    "collapsed": true
   },
   "source": [
    "Green line shows the linear regression result and the blue curve shows the logistic regression result"
   ]
  },
  {
   "cell_type": "code",
   "execution_count": null,
   "metadata": {
    "collapsed": true
   },
   "outputs": [],
   "source": []
  }
 ],
 "metadata": {
  "kernelspec": {
   "display_name": "Python 3",
   "language": "python",
   "name": "python3"
  },
  "language_info": {
   "codemirror_mode": {
    "name": "ipython",
    "version": 3
   },
   "file_extension": ".py",
   "mimetype": "text/x-python",
   "name": "python",
   "nbconvert_exporter": "python",
   "pygments_lexer": "ipython3",
   "version": "3.4.4"
  }
 },
 "nbformat": 4,
 "nbformat_minor": 0
}
