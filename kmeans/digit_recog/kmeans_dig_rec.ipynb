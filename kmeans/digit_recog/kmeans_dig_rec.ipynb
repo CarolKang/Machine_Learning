{
 "cells": [
  {
   "cell_type": "code",
   "execution_count": 1,
   "metadata": {
    "collapsed": true
   },
   "outputs": [],
   "source": [
    "import numpy as np\n",
    "import matplotlib.pyplot as plt\n",
    "import scipy\n",
    "import scipy.io as sio\n",
    "import sklearn.metrics as metrics\n",
    "%matplotlib inline"
   ]
  },
  {
   "cell_type": "code",
   "execution_count": 2,
   "metadata": {
    "collapsed": false
   },
   "outputs": [
    {
     "name": "stdout",
     "output_type": "stream",
     "text": [
      "(28, 28, 60000) (60000, 784)\n"
     ]
    }
   ],
   "source": [
    "data = scipy.io.loadmat(\"data_hw6_cs189_fa16/mnist_data/images.mat\")\n",
    "Images = data['images'].astype(int)\n",
    "img_reshape = Images.transpose(2,0,1).reshape(60000,-1)\n",
    "print(Images.shape, img_reshape.shape)"
   ]
  },
  {
   "cell_type": "code",
   "execution_count": 3,
   "metadata": {
    "collapsed": false
   },
   "outputs": [],
   "source": [
    "X = img_reshape"
   ]
  },
  {
   "cell_type": "code",
   "execution_count": 4,
   "metadata": {
    "collapsed": true
   },
   "outputs": [],
   "source": [
    "def has_converged(old_centers, new_centers, epsilon):\n",
    "    \"\"\"\n",
    "    Test if the distance between the centers is less than epsilon.\n",
    "    \"\"\"\n",
    "    return (old_centers is not None) and (new_centers is not None) and \\\n",
    "        np.linalg.norm(np.asarray(old_centers) - np.asarray(new_centers), ord=2) < epsilon"
   ]
  },
  {
   "cell_type": "code",
   "execution_count": 5,
   "metadata": {
    "collapsed": true
   },
   "outputs": [],
   "source": [
    "def nearest_center(centers, point):\n",
    "    \"\"\"\n",
    "    Outputs:\n",
    "    A 2-tuple, containing the index of the closest center (point) and its distance from point\n",
    "    \"\"\"\n",
    "    (index, shortest_distance) = (None, 999999)\n",
    "    for idx in range(len(centers)):\n",
    "        center = centers[idx]\n",
    "        distance = np.linalg.norm(np.array(center)- np.array(point))\n",
    "        if distance < shortest_distance:\n",
    "            (index, shortest_distance) = (idx, distance)                                  \n",
    "    return index"
   ]
  },
  {
   "cell_type": "code",
   "execution_count": 6,
   "metadata": {
    "collapsed": true
   },
   "outputs": [],
   "source": [
    "def update_center(points, old_centers):\n",
    "    \"\"\"\n",
    "    Output:\n",
    "    A 2-tuple (counts, sums) consisting of:\n",
    "     - counts: an array of length k containing the count of points in each new center\n",
    "     - sums: a k by d array consisting of sum of the points assigned to each center\n",
    "     \n",
    "    \"\"\"\n",
    "    # Get the shape of the old centers\n",
    "    \n",
    "#     k,d = old_centers.shape\n",
    "    k = len(old_centers)\n",
    "    d = len(old_centers[0])\n",
    "    # Initialize the sums\n",
    "    counts = np.zeros((k,1))\n",
    "    sums = np.zeros((k,d))\n",
    "\n",
    "    # Loop over the data and compute the new assignments\n",
    "    for i in range(points.shape[0]):\n",
    "        # Compute the nearest center\n",
    "        point = points[i]\n",
    "        nearest_c = nearest_center(old_centers,point)\n",
    "        # Update the sums and counts\n",
    "        counts[nearest_c] += 1\n",
    "        sums[nearest_c] += point\n",
    "  \n",
    "    return (counts, sums)"
   ]
  },
  {
   "cell_type": "code",
   "execution_count": 7,
   "metadata": {
    "collapsed": true
   },
   "outputs": [],
   "source": [
    "def k_means(X, k = 5, max_iter = 1000, epsilon = 0.001):\n",
    "    # Pick initial cluster centers\n",
    "    centers = []\n",
    "    init_idx = np.random.choice(X.shape[0], k, replace=False)\n",
    "    for idx in init_idx:\n",
    "        centers.append(X[idx])\n",
    "    \n",
    "    # Main loop \n",
    "    old_centers = None\n",
    "    new_centers = centers\n",
    "    num_iter = 0\n",
    "    while num_iter < max_iter and not has_converged(old_centers, new_centers, epsilon):\n",
    "        old_centers = new_centers\n",
    "#         print(old_centers)\n",
    "        count, sums = update_center(X, old_centers)\n",
    "        new_centers = sums/count\n",
    "        num_iter += 1\n",
    "        \n",
    "    return new_centers\n"
   ]
  },
  {
   "cell_type": "markdown",
   "metadata": {},
   "source": [
    "## K = 5"
   ]
  },
  {
   "cell_type": "code",
   "execution_count": 8,
   "metadata": {
    "collapsed": false
   },
   "outputs": [],
   "source": [
    "k = 5 \n",
    "M = k_means(X, k = k, max_iter = 200)"
   ]
  },
  {
   "cell_type": "code",
   "execution_count": 9,
   "metadata": {
    "collapsed": false
   },
   "outputs": [
    {
     "data": {
      "image/png": "[encoded data removed]",
      "text/plain": [
       "<matplotlib.figure.Figure at 0x1109cf6a0>"
      ]
     },
     "metadata": {},
     "output_type": "display_data"
    }
   ],
   "source": [
    "for i in range(len(M)):\n",
    "    plt.subplot(1, len(M), (i + 1))\n",
    "    plt.imshow(M[i].reshape((28,28)), interpolation='nearest', cmap='gray')\n",
    "    plt.xticks(()), plt.yticks(())\n",
    "plt.show()"
   ]
  },
  {
   "cell_type": "code",
   "execution_count": 10,
   "metadata": {
    "collapsed": true
   },
   "outputs": [],
   "source": [
    "def make_plot(M):\n",
    "    for i in range(len(M)):\n",
    "        plt.subplot(1, len(M), (i + 1))\n",
    "        plt.imshow(M[i].reshape((28,28)), interpolation='nearest', cmap='gray')\n",
    "        plt.xticks(()), plt.yticks(())\n",
    "    plt.show()"
   ]
  },
  {
   "cell_type": "markdown",
   "metadata": {},
   "source": [
    "## K = 10"
   ]
  },
  {
   "cell_type": "code",
   "execution_count": 11,
   "metadata": {
    "collapsed": false
   },
   "outputs": [
    {
     "data": {
      "image/png": "[encoded data removed]",
      "text/plain": [
       "<matplotlib.figure.Figure at 0x110a5ef28>"
      ]
     },
     "metadata": {},
     "output_type": "display_data"
    }
   ],
   "source": [
    "k = 10\n",
    "M = k_means(X, k = k, max_iter = 200)\n",
    "make_plot(M)"
   ]
  },
  {
   "cell_type": "markdown",
   "metadata": {},
   "source": [
    "## K = 20"
   ]
  },
  {
   "cell_type": "code",
   "execution_count": 12,
   "metadata": {
    "collapsed": false
   },
   "outputs": [
    {
     "data": {
      "image/png": "[encoded data removed]",
      "text/plain": [
       "<matplotlib.figure.Figure at 0x143430278>"
      ]
     },
     "metadata": {},
     "output_type": "display_data"
    }
   ],
   "source": [
    "k = 20\n",
    "M = k_means(X, k = k, max_iter = 200)\n",
    "make_plot(M)"
   ]
  },
  {
   "cell_type": "code",
   "execution_count": null,
   "metadata": {
    "collapsed": true
   },
   "outputs": [],
   "source": []
  }
 ],
 "metadata": {
  "kernelspec": {
   "display_name": "Python 3",
   "language": "python",
   "name": "python3"
  },
  "language_info": {
   "codemirror_mode": {
    "name": "ipython",
    "version": 3
   },
   "file_extension": ".py",
   "mimetype": "text/x-python",
   "name": "python",
   "nbconvert_exporter": "python",
   "pygments_lexer": "ipython3",
   "version": "3.4.4"
  }
 },
 "nbformat": 4,
 "nbformat_minor": 0
}
